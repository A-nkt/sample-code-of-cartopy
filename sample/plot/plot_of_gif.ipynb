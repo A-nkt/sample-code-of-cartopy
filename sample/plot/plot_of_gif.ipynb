{
 "cells": [
  {
   "cell_type": "code",
   "execution_count": 14,
   "metadata": {},
   "outputs": [],
   "source": [
    "import cartopy.crs as ccrs\n",
    "import matplotlib.pyplot as plt\n",
    "from PIL import Image"
   ]
  },
  {
   "cell_type": "code",
   "execution_count": 13,
   "metadata": {},
   "outputs": [],
   "source": [
    "for i in range(1, 32, 1):\n",
    "    title = f\"2024/01/{str(i).zfill(2)}\"\n",
    "\n",
    "    fig = plt.figure()\n",
    "    ax = fig.add_subplot(1, 1, 1, projection=ccrs.PlateCarree(central_longitude=180))\n",
    "    ax.coastlines()\n",
    "\n",
    "    ax.set_title(title)\n",
    "    plt.savefig(f\"./img/{i}.png\")\n",
    "    plt.close()"
   ]
  },
  {
   "cell_type": "code",
   "execution_count": 17,
   "metadata": {},
   "outputs": [],
   "source": [
    "pictures=[]\n",
    "\n",
    "\n",
    "for i in range(1, 32, 1):\n",
    "    pic_name = f\"./img/{str(i)}.png\"\n",
    "    img = Image.open(pic_name)\n",
    "    pictures.append(img)\n",
    "\n",
    "pictures[0].save('./gif/anime.gif',save_all=True, append_images=pictures[1:], optimize=True, duration=500, loop=0)"
   ]
  },
  {
   "cell_type": "code",
   "execution_count": null,
   "metadata": {},
   "outputs": [],
   "source": []
  }
 ],
 "metadata": {
  "kernelspec": {
   "display_name": "Python 3",
   "language": "python",
   "name": "python3"
  },
  "language_info": {
   "codemirror_mode": {
    "name": "ipython",
    "version": 3
   },
   "file_extension": ".py",
   "mimetype": "text/x-python",
   "name": "python",
   "nbconvert_exporter": "python",
   "pygments_lexer": "ipython3",
   "version": "3.10.6"
  }
 },
 "nbformat": 4,
 "nbformat_minor": 2
}
