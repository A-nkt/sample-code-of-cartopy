{
 "cells": [
  {
   "cell_type": "code",
   "execution_count": 3,
   "metadata": {},
   "outputs": [
    {
     "name": "stdout",
     "output_type": "stream",
     "text": [
      "Collecting cartopy\n",
      "  Obtaining dependency information for cartopy from https://files.pythonhosted.org/packages/0f/7e/80a57a438b719868662ab7e3f5146547dc90345cac8e49f5271a366f0f06/Cartopy-0.23.0-cp310-cp310-macosx_11_0_arm64.whl.metadata\n",
      "  Downloading Cartopy-0.23.0-cp310-cp310-macosx_11_0_arm64.whl.metadata (8.0 kB)\n",
      "Requirement already satisfied: numpy>=1.21 in /Users/n-yuta/.pyenv/versions/3.10.6/lib/python3.10/site-packages (from cartopy) (1.23.1)\n",
      "Requirement already satisfied: matplotlib>=3.5 in /Users/n-yuta/.pyenv/versions/3.10.6/lib/python3.10/site-packages (from cartopy) (3.5.0)\n",
      "Collecting shapely>=1.7 (from cartopy)\n",
      "  Obtaining dependency information for shapely>=1.7 from https://files.pythonhosted.org/packages/30/15/5ec9c535b48d335e508b0afd6a77045d6db72a8626e76cc0fe81cdcbf8ee/shapely-2.0.4-cp310-cp310-macosx_11_0_arm64.whl.metadata\n",
      "  Downloading shapely-2.0.4-cp310-cp310-macosx_11_0_arm64.whl.metadata (7.0 kB)\n",
      "Requirement already satisfied: packaging>=20 in /Users/n-yuta/.pyenv/versions/3.10.6/lib/python3.10/site-packages (from cartopy) (23.0)\n",
      "Collecting pyshp>=2.3 (from cartopy)\n",
      "  Obtaining dependency information for pyshp>=2.3 from https://files.pythonhosted.org/packages/98/2f/68116db5b36b895c0450e3072b8cb6c2fac0359279b182ea97014d3c8ac0/pyshp-2.3.1-py2.py3-none-any.whl.metadata\n",
      "  Downloading pyshp-2.3.1-py2.py3-none-any.whl.metadata (55 kB)\n",
      "\u001b[2K     \u001b[90m━━━━━━━━━━━━━━━━━━━━━━━━━━━━━━━━━━━━━━━━\u001b[0m \u001b[32m56.0/56.0 kB\u001b[0m \u001b[31m1.7 MB/s\u001b[0m eta \u001b[36m0:00:00\u001b[0m\n",
      "\u001b[?25hCollecting pyproj>=3.3.1 (from cartopy)\n",
      "  Obtaining dependency information for pyproj>=3.3.1 from https://files.pythonhosted.org/packages/18/86/2e7cb9de40492f1bafbf11f4c9072edc394509a40b5e4c52f8139546f039/pyproj-3.6.1-cp310-cp310-macosx_11_0_arm64.whl.metadata\n",
      "  Downloading pyproj-3.6.1-cp310-cp310-macosx_11_0_arm64.whl.metadata (31 kB)\n",
      "Requirement already satisfied: cycler>=0.10 in /Users/n-yuta/.pyenv/versions/3.10.6/lib/python3.10/site-packages (from matplotlib>=3.5->cartopy) (0.11.0)\n",
      "Requirement already satisfied: fonttools>=4.22.0 in /Users/n-yuta/.pyenv/versions/3.10.6/lib/python3.10/site-packages (from matplotlib>=3.5->cartopy) (4.34.4)\n",
      "Requirement already satisfied: kiwisolver>=1.0.1 in /Users/n-yuta/.pyenv/versions/3.10.6/lib/python3.10/site-packages (from matplotlib>=3.5->cartopy) (1.4.4)\n",
      "Requirement already satisfied: pillow>=6.2.0 in /Users/n-yuta/.pyenv/versions/3.10.6/lib/python3.10/site-packages (from matplotlib>=3.5->cartopy) (9.2.0)\n",
      "Requirement already satisfied: pyparsing>=2.2.1 in /Users/n-yuta/.pyenv/versions/3.10.6/lib/python3.10/site-packages (from matplotlib>=3.5->cartopy) (3.0.9)\n",
      "Requirement already satisfied: python-dateutil>=2.7 in /Users/n-yuta/.pyenv/versions/3.10.6/lib/python3.10/site-packages (from matplotlib>=3.5->cartopy) (2.8.2)\n",
      "Requirement already satisfied: setuptools-scm>=4 in /Users/n-yuta/.pyenv/versions/3.10.6/lib/python3.10/site-packages (from matplotlib>=3.5->cartopy) (7.0.5)\n",
      "Requirement already satisfied: certifi in /Users/n-yuta/.pyenv/versions/3.10.6/lib/python3.10/site-packages (from pyproj>=3.3.1->cartopy) (2022.6.15)\n",
      "Requirement already satisfied: six>=1.5 in /Users/n-yuta/.pyenv/versions/3.10.6/lib/python3.10/site-packages (from python-dateutil>=2.7->matplotlib>=3.5->cartopy) (1.16.0)\n",
      "Requirement already satisfied: setuptools in /Users/n-yuta/.pyenv/versions/3.10.6/lib/python3.10/site-packages (from setuptools-scm>=4->matplotlib>=3.5->cartopy) (45.0.0)\n",
      "Requirement already satisfied: tomli>=1.0.0 in /Users/n-yuta/.pyenv/versions/3.10.6/lib/python3.10/site-packages (from setuptools-scm>=4->matplotlib>=3.5->cartopy) (2.0.1)\n",
      "Requirement already satisfied: typing-extensions in /Users/n-yuta/.pyenv/versions/3.10.6/lib/python3.10/site-packages (from setuptools-scm>=4->matplotlib>=3.5->cartopy) (4.12.2)\n",
      "Downloading Cartopy-0.23.0-cp310-cp310-macosx_11_0_arm64.whl (10.9 MB)\n",
      "\u001b[2K   \u001b[90m━━━━━━━━━━━━━━━━━━━━━━━━━━━━━━━━━━━━━━━━\u001b[0m \u001b[32m10.9/10.9 MB\u001b[0m \u001b[31m3.4 MB/s\u001b[0m eta \u001b[36m0:00:00\u001b[0m00:01\u001b[0m00:01\u001b[0m\n",
      "\u001b[?25hDownloading pyproj-3.6.1-cp310-cp310-macosx_11_0_arm64.whl (4.9 MB)\n",
      "\u001b[2K   \u001b[90m━━━━━━━━━━━━━━━━━━━━━━━━━━━━━━━━━━━━━━━━\u001b[0m \u001b[32m4.9/4.9 MB\u001b[0m \u001b[31m5.0 MB/s\u001b[0m eta \u001b[36m0:00:00\u001b[0m00:01\u001b[0m00:01\u001b[0m\n",
      "\u001b[?25hDownloading pyshp-2.3.1-py2.py3-none-any.whl (46 kB)\n",
      "\u001b[2K   \u001b[90m━━━━━━━━━━━━━━━━━━━━━━━━━━━━━━━━━━━━━━━━\u001b[0m \u001b[32m46.5/46.5 kB\u001b[0m \u001b[31m3.5 MB/s\u001b[0m eta \u001b[36m0:00:00\u001b[0m\n",
      "\u001b[?25hDownloading shapely-2.0.4-cp310-cp310-macosx_11_0_arm64.whl (1.3 MB)\n",
      "\u001b[2K   \u001b[90m━━━━━━━━━━━━━━━━━━━━━━━━━━━━━━━━━━━━━━━━\u001b[0m \u001b[32m1.3/1.3 MB\u001b[0m \u001b[31m4.9 MB/s\u001b[0m eta \u001b[36m0:00:00\u001b[0ma \u001b[36m0:00:01\u001b[0m\n",
      "\u001b[?25hInstalling collected packages: shapely, pyshp, pyproj, cartopy\n",
      "Successfully installed cartopy-0.23.0 pyproj-3.6.1 pyshp-2.3.1 shapely-2.0.4\n",
      "\n",
      "\u001b[1m[\u001b[0m\u001b[34;49mnotice\u001b[0m\u001b[1;39;49m]\u001b[0m\u001b[39;49m A new release of pip is available: \u001b[0m\u001b[31;49m23.2.1\u001b[0m\u001b[39;49m -> \u001b[0m\u001b[32;49m24.0\u001b[0m\n",
      "\u001b[1m[\u001b[0m\u001b[34;49mnotice\u001b[0m\u001b[1;39;49m]\u001b[0m\u001b[39;49m To update, run: \u001b[0m\u001b[32;49mpip install --upgrade pip\u001b[0m\n"
     ]
    }
   ],
   "source": [
    "!pip install cartopy"
   ]
  },
  {
   "cell_type": "code",
   "execution_count": null,
   "metadata": {},
   "outputs": [],
   "source": []
  },
  {
   "cell_type": "code",
   "execution_count": null,
   "metadata": {},
   "outputs": [],
   "source": []
  }
 ],
 "metadata": {
  "kernelspec": {
   "display_name": "Python 3",
   "language": "python",
   "name": "python3"
  },
  "language_info": {
   "codemirror_mode": {
    "name": "ipython",
    "version": 3
   },
   "file_extension": ".py",
   "mimetype": "text/x-python",
   "name": "python",
   "nbconvert_exporter": "python",
   "pygments_lexer": "ipython3",
   "version": "3.10.6"
  }
 },
 "nbformat": 4,
 "nbformat_minor": 2
}
